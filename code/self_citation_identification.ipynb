{
 "cells": [
  {
   "cell_type": "code",
   "execution_count": 1,
   "metadata": {},
   "outputs": [],
   "source": [
    "import os\n",
    "from itertools import product\n",
    "import numpy as np\n",
    "from scipy.sparse import csr_matrix"
   ]
  },
  {
   "cell_type": "code",
   "execution_count": 2,
   "metadata": {},
   "outputs": [],
   "source": [
    "class self_citation():\n",
    "    \n",
    "    def __init__(self, path):\n",
    "        self.path = path\n",
    "        self.read = False\n",
    "        \n",
    "    \n",
    "    def names_dict_generator(self):\n",
    "        \"\"\"\n",
    "        Read files and build author dictionary and find minimum publish year\n",
    "        \"\"\"\n",
    "        self.authors = {}\n",
    "        self.names = set()\n",
    "        self.files = os.listdir(self.path)\n",
    "        try:self.files.remove('.DS_Store')\n",
    "        except:pass\n",
    "        \n",
    "        for file in self.files:\n",
    "            with open(self.path+file) as text:\n",
    "                au = 0\n",
    "                cr = 0\n",
    "                author_list = []\n",
    "                for line in text:\n",
    "                    # If \n",
    "                    if line.startswith('PT'):\n",
    "                        author_list = []\n",
    "                        \n",
    "                    if line.startswith('AU'):\n",
    "                        au=1\n",
    "                    elif line.startswith('AF'):\n",
    "                        au=0\n",
    "                        \n",
    "                    if au:\n",
    "                        author = line.lower().replace('au','').strip().replace(',','')\n",
    "                        author_list.append(author)\n",
    "                        self.names.add(author)\n",
    "                        if author in self.authors:\n",
    "                            continue\n",
    "                        else: self.authors[author] = 9999\n",
    "                    \n",
    "                    if line.startswith('CR'):\n",
    "                        cr=1\n",
    "                    elif line.startswith('NR'):\n",
    "                        cr=0\n",
    "                        \n",
    "                    if cr:\n",
    "                        cited = line.lower().replace('cr','').strip().split(',',1)[0]\n",
    "                        self.names.add(cited)\n",
    "\n",
    "                    if line.startswith('PY'):\n",
    "                        year = int(line.replace('PY ',''))\n",
    "                        for a in author_list:\n",
    "                            if year < self.authors[a]:\n",
    "                                self.authors[a] = year\n",
    "                            else: continue\n",
    "        self.names_dict = dict(zip(self.names,range(0,len(self.names))))\n",
    "        self.read = True\n",
    "                 \n",
    "    \n",
    "    def citation_matrix(self, location=None, career_stage=None):\n",
    "        if not self.read:\n",
    "            self.names_dict_generator()\n",
    "            \n",
    "        self.location = location\n",
    "        self.career_stage = career_stage\n",
    "        self.matrix_index = []\n",
    "        self.num_data = []\n",
    "        \n",
    "        for file in self.files:\n",
    "            with open(self.path+file) as text:\n",
    "                au = 0\n",
    "                cr = 0\n",
    "                for line in text:\n",
    "                    if line.startswith('PT'):\n",
    "                        citing_col = []\n",
    "                        cited_row = []\n",
    "                        data = []\n",
    "                        author_list = []\n",
    "                        py = False\n",
    "                        \n",
    "                    if line.startswith('AU'):\n",
    "                        au=1\n",
    "                    elif line.startswith('AF'):\n",
    "                        au=0\n",
    "                        \n",
    "                    if au:\n",
    "                        author = line.lower().replace('au','').strip().replace(',','')\n",
    "                        author_list.append(author)\n",
    "                        citing_col.append(self.names_dict[author])\n",
    "                    \n",
    "                    # Select location\n",
    "                    # if line.startswith('C1'):\n",
    "                        \n",
    "                    \n",
    "                    if line.startswith('CR'):\n",
    "                        cr=1\n",
    "                    elif line.startswith('NR'):\n",
    "                        cr=0\n",
    "                        \n",
    "                    if cr:\n",
    "                        cited = line.lower().replace('cr','').strip().split(',',1)[0]\n",
    "                        cited_row.append(self.names_dict[cited])\n",
    "                    \n",
    "                    if line.startswith('PY'):\n",
    "                        py = True\n",
    "                        if self.career_stage is not None:\n",
    "                            year = int(line.replace('PY ',''))\n",
    "                            for author in author_list:\n",
    "                                if (year - self.authors[author]) in range(self.career_stage[0],self.career_stage[1]):\n",
    "                                    continue\n",
    "                                else:\n",
    "                                    citing_col.remove(self.names_dict[author])\n",
    "                    \n",
    "                    if line.startswith('ER'):\n",
    "                        if not py:\n",
    "                            continue\n",
    "                            \n",
    "                        indices = list(product(cited_row, citing_col))\n",
    "                        for i in indices:\n",
    "                            try: \n",
    "                                idx = self.matrix_index.index(i)\n",
    "                                self.num_data[idx] += 1\n",
    "                            except:\n",
    "                                self.matrix_index.append(i)\n",
    "                                self.num_data.append(1)\n",
    "                        indices = []        \n",
    "        \n",
    "        if self.matrix_index:\n",
    "            self.matrix_index = np.array(self.matrix_index)\n",
    "            col = self.matrix_index[:,1]\n",
    "            row = self.matrix_index[:,0]\n",
    "            shape = (len(self.names_dict), len(self.names_dict))\n",
    "            result = csr_matrix((self.num_data, (row, col)), shape = shape)\n",
    "            author_num = len(set(self.matrix_index[:,1]))\n",
    "            return result, author_num\n",
    "        else:\n",
    "            print('No Results')\n",
    "            return None, None\n",
    "        \n"
   ]
  },
  {
   "cell_type": "code",
   "execution_count": 3,
   "metadata": {},
   "outputs": [],
   "source": [
    "x = self_citation('data/')"
   ]
  },
  {
   "cell_type": "code",
   "execution_count": 4,
   "metadata": {},
   "outputs": [],
   "source": [
    "x.names_dict_generator()"
   ]
  },
  {
   "cell_type": "code",
   "execution_count": 5,
   "metadata": {},
   "outputs": [],
   "source": [
    "matrix1, author_num1 = x.citation_matrix(career_stage=(0,1))"
   ]
  },
  {
   "cell_type": "code",
   "execution_count": 6,
   "metadata": {},
   "outputs": [],
   "source": [
    "matrix2, author_num2 = x.citation_matrix(career_stage=(1,2))"
   ]
  },
  {
   "cell_type": "code",
   "execution_count": 7,
   "metadata": {},
   "outputs": [],
   "source": [
    "matrix3, author_num3 = x.citation_matrix(career_stage=(2,3))"
   ]
  },
  {
   "cell_type": "code",
   "execution_count": 8,
   "metadata": {},
   "outputs": [],
   "source": [
    "matrix4, author_num4 = x.citation_matrix(career_stage=(3,4))"
   ]
  },
  {
   "cell_type": "code",
   "execution_count": 9,
   "metadata": {},
   "outputs": [],
   "source": [
    "matrix5, author_num5 = x.citation_matrix(career_stage=(4,5))"
   ]
  },
  {
   "cell_type": "code",
   "execution_count": 10,
   "metadata": {},
   "outputs": [],
   "source": [
    "def avg_citation_level(matrix, author_number):\n",
    "    sum_self_citation = matrix.toarray().diagonal().sum()\n",
    "    self_citation_level = sum_self_citation/author_number\n",
    "    return self_citation_level"
   ]
  },
  {
   "cell_type": "code",
   "execution_count": 19,
   "metadata": {},
   "outputs": [
    {
     "name": "stdout",
     "output_type": "stream",
     "text": [
      "Average Self Citation Level - Career < 1 year: 0.2688557213930348 \n",
      "Author Number: 5025\n"
     ]
    }
   ],
   "source": [
    "print('Average Self Citation Level - Career < 1 year:', avg_citation_level(matrix1, author_num1), '\\n' 'Author Number:', author_num1)"
   ]
  },
  {
   "cell_type": "code",
   "execution_count": 20,
   "metadata": {},
   "outputs": [
    {
     "name": "stdout",
     "output_type": "stream",
     "text": [
      "Average Self Citation Level - Career 1-2 year: 0.5008347245409015 \n",
      "Author Number: 599\n"
     ]
    }
   ],
   "source": [
    "print('Average Self Citation Level - Career 1-2 year:', avg_citation_level(matrix2, author_num2), '\\n' 'Author Number:', author_num2)"
   ]
  },
  {
   "cell_type": "code",
   "execution_count": 21,
   "metadata": {},
   "outputs": [
    {
     "name": "stdout",
     "output_type": "stream",
     "text": [
      "Average Self Citation Level - Career 2-3 year: 0.7574257425742574 \n",
      "Author Number: 404\n"
     ]
    }
   ],
   "source": [
    "print('Average Self Citation Level - Career 2-3 year:', avg_citation_level(matrix3, author_num3), '\\n' 'Author Number:', author_num3)"
   ]
  },
  {
   "cell_type": "code",
   "execution_count": 22,
   "metadata": {},
   "outputs": [
    {
     "name": "stdout",
     "output_type": "stream",
     "text": [
      "Average Self Citation Level - Career 3-4 year: 0.6254826254826255 \n",
      "Author Number: 259\n"
     ]
    }
   ],
   "source": [
    "print('Average Self Citation Level - Career 3-4 year:', avg_citation_level(matrix4, author_num4), '\\n' 'Author Number:', author_num4)"
   ]
  },
  {
   "cell_type": "code",
   "execution_count": 23,
   "metadata": {},
   "outputs": [
    {
     "name": "stdout",
     "output_type": "stream",
     "text": [
      "Average Self Citation Level - Career 4-5 year: 0.6428571428571429 \n",
      "Author Number: 84\n"
     ]
    }
   ],
   "source": [
    "print('Average Self Citation Level - Career 4-5 year:', avg_citation_level(matrix5, author_num5), '\\n' 'Author Number:', author_num5)"
   ]
  },
  {
   "cell_type": "code",
   "execution_count": null,
   "metadata": {},
   "outputs": [],
   "source": []
  }
 ],
 "metadata": {
  "kernelspec": {
   "display_name": "Python 3",
   "language": "python",
   "name": "python3"
  },
  "language_info": {
   "codemirror_mode": {
    "name": "ipython",
    "version": 3
   },
   "file_extension": ".py",
   "mimetype": "text/x-python",
   "name": "python",
   "nbconvert_exporter": "python",
   "pygments_lexer": "ipython3",
   "version": "3.7.7"
  }
 },
 "nbformat": 4,
 "nbformat_minor": 4
}
